{
 "cells": [
  {
   "cell_type": "code",
   "execution_count": 1,
   "id": "42b97a97",
   "metadata": {},
   "outputs": [
    {
     "name": "stdout",
     "output_type": "stream",
     "text": [
      "pyside2 backend - Qt version 5.15.2\n",
      "Warning: ion_trap_chip.step file already exists and will be replaced\n",
      "Chip successfully exported as: ion_trap_chip.step\n"
     ]
    }
   ],
   "source": [
    "\"\"\"\n",
    "Ion Trap Chip Generator - Main Entry Point\n",
    "\"\"\"\n",
    "from core.chip_builder import IonTrapChipGenerator\n",
    "\n",
    "def main():\n",
    "    \"\"\"Main execution function\"\"\"\n",
    "    chip_generator = IonTrapChipGenerator()\n",
    "    \n",
    "    # Generate complete chip with routing grooves\n",
    "    chip = chip_generator.create_complete_ion_trap_chip()\n",
    "    \n",
    "    if chip:\n",
    "        # Visualize the chip\n",
    "        chip_generator.visualize_chip_with_points()\n",
    "        \n",
    "        # Export to STEP file\n",
    "        chip_generator.export_to_step(\"ion_trap_chip.step\")\n",
    "    else:\n",
    "        print(\"Failed to generate chip\")\n",
    "\n",
    "if __name__ == \"__main__\":\n",
    "    main()\n"
   ]
  }
 ],
 "metadata": {
  "kernelspec": {
   "display_name": "pyoccenv",
   "language": "python",
   "name": "python3"
  },
  "language_info": {
   "codemirror_mode": {
    "name": "ipython",
    "version": 3
   },
   "file_extension": ".py",
   "mimetype": "text/x-python",
   "name": "python",
   "nbconvert_exporter": "python",
   "pygments_lexer": "ipython3",
   "version": "3.10.18"
  }
 },
 "nbformat": 4,
 "nbformat_minor": 5
}
