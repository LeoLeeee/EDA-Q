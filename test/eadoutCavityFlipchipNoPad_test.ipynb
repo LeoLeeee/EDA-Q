{
 "cells": [
  {
   "cell_type": "code",
   "execution_count": 1,
   "id": "ed2d88a0",
   "metadata": {},
   "outputs": [
    {
     "name": "stdout",
     "output_type": "stream",
     "text": [
      "\n",
      "======== PATH LENGTH REPORT ========\n",
      "Design total length: 3000 um\n",
      "Number of corners (90° arcs): 12\n",
      "Straight segments total: 2563.274 um\n",
      "Arcs total length: 565.487 um\n",
      "TRUE TOTAL LENGTH (straight + arcs): 3128.761 um\n",
      "Deviation from design: 128.761 um (4.29%)\n",
      "===================================\n",
      "\n",
      "GDS file 'readout_cavity.gds' has been generated.\n"
     ]
    }
   ],
   "source": [
    "# 导入必要的库\n",
    "import gdspy\n",
    "\n",
    "import sys\n",
    "sys.path.append('..')\n",
    "\n",
    "from library.readout_lines.readout_cavity_flipchip_no_pad import ReadoutCavityFlipchipNoPad\n",
    "# 创建一个实例\n",
    "options = {\n",
    "    'name': 'readout1_nopad',  # 读出腔名称\n",
    "    'chip': 'chip0',  # 芯片名称\n",
    "    'start_pos': (0, 0),  # 起始位置\n",
    "    'coupling_length': 300,  # 耦合长度\n",
    "    'coupling_dist': 40,  # 耦合距离\n",
    "    'width': 10,  # 读出腔宽度\n",
    "    'gap': 6,  # 间隙\n",
    "    'start_dir': 'up',  # 起始方向\n",
    "    'height': 400,  # 高度\n",
    "    'length': 3000,  # 总长度\n",
    "    'start_length':400,  # 起始长度\n",
    "    'space_dist': 60,  # 间距距离\n",
    "    'radius': 30,  # 圆角半径\n",
    "    'orientation': 90,  # 方向\n",
    "    'end_seal_height': 20  # 末端封盖高度\n",
    "}\n",
    "\n",
    "# 创建 ReadoutCavityFlipchipNoPad 实例\n",
    "readout_cavity = ReadoutCavityFlipchipNoPad(options)\n",
    "\n",
    "# 绘制读出腔的几何结构\n",
    "readout_cavity.draw_gds()\n",
    "\n",
    "# 保存生成的 GDS 文件\n",
    "readout_cavity.lib.write_gds('readout_cavity.gds')\n",
    "\n",
    "# 输出一些调试信息\n",
    "print(\"GDS file 'readout_cavity.gds' has been generated.\")"
   ]
  }
 ],
 "metadata": {
  "kernelspec": {
   "display_name": "qeda_env",
   "language": "python",
   "name": "python3"
  },
  "language_info": {
   "codemirror_mode": {
    "name": "ipython",
    "version": 3
   },
   "file_extension": ".py",
   "mimetype": "text/x-python",
   "name": "python",
   "nbconvert_exporter": "python",
   "pygments_lexer": "ipython3",
   "version": "3.11.5"
  }
 },
 "nbformat": 4,
 "nbformat_minor": 5
}
