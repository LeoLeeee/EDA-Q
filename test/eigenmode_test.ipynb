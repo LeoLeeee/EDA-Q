{
 "cells": [
  {
   "cell_type": "code",
   "execution_count": null,
   "id": "22b90339",
   "metadata": {},
   "outputs": [
    {
     "name": "stdout",
     "output_type": "stream",
     "text": [
      "PyAEDT INFO: Python version 3.11.5 | packaged by Anaconda, Inc. | (main, Sep 11 2023, 13:26:23) [MSC v.1916 64 bit (AMD64)].\n",
      "PyAEDT INFO: PyAEDT version 0.17.1.\n",
      "PyAEDT INFO: Initializing new Desktop session.\n",
      "PyAEDT INFO: Log on console is enabled.\n",
      "PyAEDT INFO: Log on file C:\\Users\\chen\\AppData\\Local\\Temp\\pyaedt_chen_3f67d20e-0c69-44ab-a5d4-40d19040738f.log is enabled.\n",
      "PyAEDT INFO: Log on AEDT is disabled.\n",
      "PyAEDT INFO: Debug logger is disabled. PyAEDT methods will not be logged.\n",
      "PyAEDT INFO: Launching PyAEDT with gRPC plugin.\n",
      "PyAEDT INFO: New AEDT session is starting on gRPC port 54566.\n",
      "PyAEDT INFO: Electronics Desktop started on gRPC port: 54566 after 6.1425087451934814 seconds.\n",
      "PyAEDT INFO: AEDT installation Path D:\\Program Files\\AnsysEM\\v241\\Win64\n",
      "PyAEDT INFO: Ansoft.ElectronicsDesktop.2024.1 version started with process ID 38892.\n",
      "Cell: readout1_nopad_cell\n",
      "d:\\5j\\EDA-Q\\test\\readout_cavity.gds\n",
      "readout_cavity.gds\n",
      "Starting simulation: dz=0.007 mm\n",
      "PyAEDT INFO: Python version 3.11.5 | packaged by Anaconda, Inc. | (main, Sep 11 2023, 13:26:23) [MSC v.1916 64 bit (AMD64)].\n",
      "PyAEDT INFO: PyAEDT version 0.17.1.\n",
      "PyAEDT INFO: Returning found Desktop session with PID 38892!\n",
      "PyAEDT INFO: Project readout_cavity has been created.\n",
      "PyAEDT INFO: No design is present. Inserting a new design.\n",
      "PyAEDT INFO: Added design 'HFSS_LAQ' of type HFSS.\n",
      "PyAEDT INFO: Aedt Objects correctly read\n",
      "PyAEDT INFO: GDS layer imported with elevations and thickness.\n",
      "PyAEDT INFO: Modeler class has been initialized! Elapsed time: 0m 0sec\n",
      "PyAEDT INFO: Parsing design objects. This operation can take time\n",
      "PyAEDT INFO: Refreshing bodies from Object Info\n",
      "PyAEDT INFO: Bodies Info Refreshed Elapsed time: 0m 0sec\n",
      "PyAEDT INFO: 3D Modeler objects parsed. Elapsed time: 0m 0sec\n",
      "PyAEDT INFO: Union of 81 objects has been executed.\n",
      "PyAEDT INFO: Materials class has been initialized! Elapsed time: 0m 0sec\n",
      "PyAEDT INFO: Parsing design objects. This operation can take time\n",
      "PyAEDT INFO: Refreshing bodies from Object Info\n",
      "PyAEDT INFO: Bodies Info Refreshed Elapsed time: 0m 0sec\n",
      "PyAEDT INFO: 3D Modeler objects parsed. Elapsed time: 0m 0sec\n",
      "PyAEDT INFO: Boundary Perfect E PerfectE has been created.\n",
      "PyAEDT ERROR: Material does not exist.\n",
      "PyAEDT INFO: Key Desktop/ActiveDSOConfigurations/HFSS correctly changed.\n",
      "PyAEDT INFO: Solving design setup setup1\n",
      "PyAEDT INFO: Key Desktop/ActiveDSOConfigurations/HFSS correctly changed.\n",
      "PyAEDT INFO: Design setup setup1 solved correctly in 0.0h 4.0m 29.0s\n"
     ]
    },
    {
     "name": "stderr",
     "output_type": "stream",
     "text": [
      "d:\\anaconda3\\envs\\qeda_env\\Lib\\site-packages\\ansys\\aedt\\core\\visualization\\plot\\pyvista.py:55: UserWarning: Graphics dependencies are required. Please install the ``graphics`` target to use this method. You can install it by running `pip install pyaedt[graphics]` or `pip install pyaedt[all]`.\n",
      "  warnings.warn(ERROR_GRAPHICS_REQUIRED)\n",
      "d:\\anaconda3\\envs\\qeda_env\\Lib\\site-packages\\ansys\\aedt\\core\\visualization\\plot\\matplotlib.py:53: UserWarning: Graphics dependencies are required. Please install the ``graphics`` target to use this method. You can install it by running `pip install pyaedt[graphics]` or `pip install pyaedt[all]`.\n",
      "  warnings.warn(ERROR_GRAPHICS_REQUIRED)\n"
     ]
    },
    {
     "name": "stdout",
     "output_type": "stream",
     "text": [
      "PyAEDT INFO: Parsing D:/Users/chen/Documents/Ansoft/readout_cavity.aedt.\n",
      "PyAEDT INFO: File D:/Users/chen/Documents/Ansoft/readout_cavity.aedt correctly loaded. Elapsed time: 0m 0sec\n",
      "PyAEDT INFO: aedt file load time 0.012005090713500977\n",
      "PyAEDT INFO: PostProcessor class has been initialized! Elapsed time: 0m 0sec\n",
      "PyAEDT INFO: PostProcessor class has been initialized! Elapsed time: 0m 0sec\n",
      "PyAEDT INFO: Post class has been initialized! Elapsed time: 0m 0sec\n",
      "PyAEDT INFO: Solution Data Correctly Loaded.\n",
      "PyAEDT INFO: Solution Data Correctly Loaded.\n",
      "Resonant frequency (GHz): 10.3063211060936\n",
      "PyAEDT INFO: Project readout_cavity Saved correctly\n"
     ]
    },
    {
     "ename": "AttributeError",
     "evalue": "'Hfss' object has no attribute 'close'",
     "output_type": "error",
     "traceback": [
      "\u001b[1;31m---------------------------------------------------------------------------\u001b[0m",
      "\u001b[1;31mAttributeError\u001b[0m                            Traceback (most recent call last)",
      "Cell \u001b[1;32mIn[1], line 13\u001b[0m\n\u001b[0;32m      9\u001b[0m gds_path \u001b[38;5;241m=\u001b[39m os\u001b[38;5;241m.\u001b[39mpath\u001b[38;5;241m.\u001b[39mjoin(base_dir, gds_name)\n\u001b[0;32m     11\u001b[0m ei \u001b[38;5;241m=\u001b[39m eigenmode()\n\u001b[1;32m---> 13\u001b[0m ei\u001b[38;5;241m.\u001b[39mrun_eigenmode_simulation_from_gds( gds_name)\n",
      "File \u001b[1;32md:\\5j\\EDA-Q\\test\\..\\hfss\\eigenmode.py:191\u001b[0m, in \u001b[0;36meigenmode.run_eigenmode_simulation_from_gds\u001b[1;34m(self, gds_name, thickness, basic_material, region_material)\u001b[0m\n\u001b[0;32m    189\u001b[0m         \u001b[38;5;28mprint\u001b[39m(gds_path)\n\u001b[0;32m    190\u001b[0m         \u001b[38;5;28mprint\u001b[39m(gds_name)\n\u001b[1;32m--> 191\u001b[0m         run_eigenmode_simulation(gds_path ,gds_name\u001b[38;5;241m.\u001b[39msplit(\u001b[38;5;124m'\u001b[39m\u001b[38;5;124m.\u001b[39m\u001b[38;5;124m'\u001b[39m)[\u001b[38;5;241m0\u001b[39m], start_point_1 , dx , dy ,dz \u001b[38;5;241m=\u001b[39m thickness[i] )\n\u001b[0;32m    193\u001b[0m d\u001b[38;5;241m.\u001b[39mrelease_desktop()\n",
      "File \u001b[1;32md:\\5j\\EDA-Q\\test\\..\\hfss\\eigenmode.py:139\u001b[0m, in \u001b[0;36meigenmode.run_eigenmode_simulation_from_gds.<locals>.run_eigenmode_simulation\u001b[1;34m(gds_path, project_name, start_point, dx, dy, dz, aedt_version, num_cores, non_graphical)\u001b[0m\n\u001b[0;32m    136\u001b[0m \u001b[38;5;28;01mfinally\u001b[39;00m:\n\u001b[0;32m    137\u001b[0m     \u001b[38;5;66;03m# Save and close project\u001b[39;00m\n\u001b[0;32m    138\u001b[0m     hfss\u001b[38;5;241m.\u001b[39msave_project()\n\u001b[1;32m--> 139\u001b[0m     hfss\u001b[38;5;241m.\u001b[39mclose()\n\u001b[0;32m    140\u001b[0m     temp_folder\u001b[38;5;241m.\u001b[39mcleanup()\n",
      "\u001b[1;31mAttributeError\u001b[0m: 'Hfss' object has no attribute 'close'"
     ]
    }
   ],
   "source": [
    "import sys\n",
    "sys.path.append('..')\n",
    "\n",
    "from hfss.eigenmode import eigenmode \n",
    "import os\n",
    "gds_name = 'readout_cavity.gds'\n",
    "\n",
    "base_dir = os.getcwd()  # 当前工作目录\n",
    "gds_path = os.path.join(base_dir, gds_name)\n",
    "\n",
    "ei = eigenmode()\n",
    "\n",
    "ei.run_eigenmode_simulation_from_gds(gds_name)"
   ]
  }
 ],
 "metadata": {
  "kernelspec": {
   "display_name": "qeda_env",
   "language": "python",
   "name": "python3"
  },
  "language_info": {
   "codemirror_mode": {
    "name": "ipython",
    "version": 3
   },
   "file_extension": ".py",
   "mimetype": "text/x-python",
   "name": "python",
   "nbconvert_exporter": "python",
   "pygments_lexer": "ipython3",
   "version": "3.11.5"
  }
 },
 "nbformat": 4,
 "nbformat_minor": 5
}
