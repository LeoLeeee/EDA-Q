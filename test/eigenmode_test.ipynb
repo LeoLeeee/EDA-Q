{
 "cells": [
  {
   "cell_type": "code",
   "execution_count": null,
   "id": "22b90339",
   "metadata": {},
   "outputs": [
    {
     "name": "stdout",
     "output_type": "stream",
     "text": [
      "PyAEDT INFO: Python version 3.11.5 | packaged by Anaconda, Inc. | (main, Sep 11 2023, 13:26:23) [MSC v.1916 64 bit (AMD64)].\n",
      "PyAEDT INFO: PyAEDT version 0.17.1.\n",
      "PyAEDT INFO: Initializing new Desktop session.\n",
      "PyAEDT INFO: Log on console is enabled.\n",
      "PyAEDT INFO: Log on file C:\\Users\\chen\\AppData\\Local\\Temp\\pyaedt_chen_e252ba24-fbaa-4746-90d7-a22084c8a50d.log is enabled.\n",
      "PyAEDT INFO: Log on AEDT is disabled.\n",
      "PyAEDT INFO: Debug logger is disabled. PyAEDT methods will not be logged.\n",
      "PyAEDT INFO: Launching PyAEDT with gRPC plugin.\n",
      "PyAEDT INFO: New AEDT session is starting on gRPC port 64415.\n",
      "PyAEDT INFO: Electronics Desktop started on gRPC port: 64415 after 19.36504554748535 seconds.\n",
      "PyAEDT INFO: AEDT installation Path D:\\Program Files\\AnsysEM\\v241\\Win64\n",
      "PyAEDT INFO: Ansoft.ElectronicsDesktop.2024.1 version started with process ID 15752.\n",
      "Cell: readout1_nopad_cell\n",
      "d:\\5j\\EDA-Q\\test\\readout_cavity.gds\n",
      "readout_cavity.gds\n",
      "Starting simulation: dz=0.007 mm\n",
      "PyAEDT INFO: Python version 3.11.5 | packaged by Anaconda, Inc. | (main, Sep 11 2023, 13:26:23) [MSC v.1916 64 bit (AMD64)].\n",
      "PyAEDT INFO: PyAEDT version 0.17.1.\n",
      "PyAEDT INFO: Returning found Desktop session with PID 15752!\n",
      "PyAEDT INFO: Project readout_cavity_0.007 has been created.\n",
      "PyAEDT INFO: No design is present. Inserting a new design.\n",
      "PyAEDT INFO: Added design 'HFSS_FYK' of type HFSS.\n",
      "PyAEDT INFO: Aedt Objects correctly read\n",
      "PyAEDT INFO: GDS layer imported with elevations and thickness.\n",
      "PyAEDT INFO: Modeler class has been initialized! Elapsed time: 0m 0sec\n",
      "PyAEDT INFO: Parsing design objects. This operation can take time\n",
      "PyAEDT INFO: Refreshing bodies from Object Info\n",
      "PyAEDT INFO: Bodies Info Refreshed Elapsed time: 0m 0sec\n",
      "PyAEDT INFO: 3D Modeler objects parsed. Elapsed time: 0m 0sec\n",
      "PyAEDT INFO: Union of 81 objects has been executed.\n",
      "PyAEDT INFO: Materials class has been initialized! Elapsed time: 0m 0sec\n",
      "PyAEDT INFO: Parsing design objects. This operation can take time\n",
      "PyAEDT INFO: Refreshing bodies from Object Info\n",
      "PyAEDT INFO: Bodies Info Refreshed Elapsed time: 0m 0sec\n",
      "PyAEDT INFO: 3D Modeler objects parsed. Elapsed time: 0m 0sec\n",
      "PyAEDT INFO: Boundary Perfect E PerfectE has been created.\n",
      "PyAEDT ERROR: Material does not exist.\n",
      "PyAEDT INFO: Key Desktop/ActiveDSOConfigurations/HFSS correctly changed.\n"
     ]
    }
   ],
   "source": [
    "import sys\n",
    "sys.path.append('..')\n",
    "\n",
    "from renderer.hfss.eigenmode import eigenmode \n",
    "import os\n",
    "gds_name = 'readout_cavity.gds'\n",
    "\n",
    "base_dir = os.getcwd()  # 当前工作目录\n",
    "gds_path = os.path.join(base_dir, gds_name)\n",
    "\n",
    "ei = eigenmode()\n",
    "\n",
    "ei.run_eigenmode_simulation_from_gds(gds_name)"
   ]
  }
 ],
 "metadata": {
  "kernelspec": {
   "display_name": "qeda_env",
   "language": "python",
   "name": "python3"
  },
  "language_info": {
   "codemirror_mode": {
    "name": "ipython",
    "version": 3
   },
   "file_extension": ".py",
   "mimetype": "text/x-python",
   "name": "python",
   "nbconvert_exporter": "python",
   "pygments_lexer": "ipython3",
   "version": "3.11.5"
  }
 },
 "nbformat": 4,
 "nbformat_minor": 5
}
